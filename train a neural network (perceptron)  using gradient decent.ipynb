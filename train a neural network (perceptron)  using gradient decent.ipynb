{
 "cells": [
  {
   "cell_type": "code",
   "execution_count": 1,
   "metadata": {},
   "outputs": [],
   "source": [
    "import numpy as np"
   ]
  },
  {
   "cell_type": "code",
   "execution_count": 2,
   "metadata": {},
   "outputs": [],
   "source": [
    "import matplotlib.pyplot as plt"
   ]
  },
  {
   "cell_type": "code",
   "execution_count": 11,
   "metadata": {},
   "outputs": [],
   "source": [
    "X = np.array([[1, 1], [1, -1], [-1, 1], [-1, -1]]).T\n",
    "Y= np.array([ 1, -1, -1, -1]).T"
   ]
  },
  {
   "cell_type": "code",
   "execution_count": 12,
   "metadata": {},
   "outputs": [],
   "source": [
    "def initial_params():\n",
    "    W = np.random.rand(2,1)\n",
    "    b=0\n",
    "    initial_param = {'W':W , 'b': b}\n",
    "    return initial_param"
   ]
  },
  {
   "cell_type": "code",
   "execution_count": 13,
   "metadata": {},
   "outputs": [],
   "source": [
    "def forward_prop(X,param):\n",
    "    W = param['W']\n",
    "    b = param['b']\n",
    "    Z = np.dot(W.T, X) + b\n",
    "    A = 1 / (1 + np.exp(-Z))\n",
    "    cache = { 'W':W, 'b':b, 'Z':Z}\n",
    "    return A, cache"
   ]
  },
  {
   "cell_type": "code",
   "execution_count": 14,
   "metadata": {},
   "outputs": [],
   "source": [
    "def compute_costs(X,Y,A):\n",
    "    m = X.shape[0]\n",
    "    cost = -1/m * np.sum(Y * np.log(A) + (1-Y) * np.log(1-A)) \n",
    "    return cost"
   ]
  },
  {
   "cell_type": "code",
   "execution_count": 15,
   "metadata": {},
   "outputs": [],
   "source": [
    "def back_prop(X,A,Y,cache):\n",
    "    m = X.shape[0]\n",
    "    dZ = A - Y\n",
    "    W = cache['W']\n",
    "    b = cache['b']\n",
    "    dW = 1/m * np.dot( X, dZ.T)\n",
    "    db = 1/m * np.sum( dZ , axis=1, keepdims=True)\n",
    "    grad = { 'dW':dW, 'db': db}\n",
    "    return grad"
   ]
  },
  {
   "cell_type": "code",
   "execution_count": 16,
   "metadata": {},
   "outputs": [],
   "source": [
    "def param_update(param,grad,learning_rate):\n",
    "    W = param['W']\n",
    "    b = param['b']\n",
    "    dW = grad['dW']\n",
    "    db = grad['db']\n",
    "    W = W - learning_rate * dW\n",
    "    b = b - learning_rate * db\n",
    "    param['W'] =W\n",
    "    param['b'] =b \n",
    "    return param"
   ]
  },
  {
   "cell_type": "code",
   "execution_count": 17,
   "metadata": {},
   "outputs": [],
   "source": [
    "def train_model(X,Y,param,learning_rate,num_iterations):\n",
    "    Cost = []\n",
    "    for i in range(num_iterations):\n",
    "        A,cache = forward_prop(X,param)\n",
    "        cost = compute_costs(X,Y,A)\n",
    "        grad = back_prop(X,A,Y,cache)\n",
    "        param =param_update(param,grad,learning_rate)\n",
    "        Cost.append(cost)\n",
    "    return param,Cost"
   ]
  },
  {
   "cell_type": "code",
   "execution_count": 18,
   "metadata": {},
   "outputs": [],
   "source": [
    "num_iterations= 500\n",
    "learning_rate=0.01\n",
    "initial_param = initial_params()\n",
    "param,Cost =train_model(X,Y,initial_param,learning_rate,num_iterations)"
   ]
  },
  {
   "cell_type": "code",
   "execution_count": 19,
   "metadata": {},
   "outputs": [
    {
     "data": {
      "text/plain": [
       "[<matplotlib.lines.Line2D at 0x7f00c3e66080>]"
      ]
     },
     "execution_count": 19,
     "metadata": {},
     "output_type": "execute_result"
    },
    {
     "data": {
      "image/png": "[encoded data removed]",
      "text/plain": [
       "<Figure size 432x288 with 1 Axes>"
      ]
     },
     "metadata": {},
     "output_type": "display_data"
    }
   ],
   "source": [
    "l = [i for i in range(500)]\n",
    "plt.plot(l,Cost)"
   ]
  },
  {
   "cell_type": "code",
   "execution_count": 20,
   "metadata": {},
   "outputs": [],
   "source": [
    "def predict(X,param):\n",
    "    A,_ = forward_prop(X,param)\n",
    "    return A"
   ]
  },
  {
   "cell_type": "code",
   "execution_count": 28,
   "metadata": {},
   "outputs": [
    {
     "data": {
      "text/plain": [
       "0"
      ]
     },
     "execution_count": 28,
     "metadata": {},
     "output_type": "execute_result"
    }
   ],
   "source": [
    "X_test = [1,0]\n",
    "y_hat = predict(X_test, param)\n",
    "pred =  y_hat > 0.5\n",
    "int(pred)"
   ]
  },
  {
   "cell_type": "code",
   "execution_count": 23,
   "metadata": {},
   "outputs": [
    {
     "data": {
      "text/plain": [
       "{'W': array([[4.06543977],\n",
       "        [3.7389363 ]]), 'b': array([[-7.14607376]])}"
      ]
     },
     "execution_count": 23,
     "metadata": {},
     "output_type": "execute_result"
    }
   ],
   "source": [
    "param"
   ]
  },
  {
   "cell_type": "code",
   "execution_count": 25,
   "metadata": {},
   "outputs": [
    {
     "data": {
      "text/plain": [
       "[<matplotlib.lines.Line2D at 0x7f00c3d5acc0>]"
      ]
     },
     "execution_count": 25,
     "metadata": {},
     "output_type": "execute_result"
    },
    {
     "data": {
      "image/png": "[encoded data removed]",
      "text/plain": [
       "<Figure size 432x288 with 1 Axes>"
      ]
     },
     "metadata": {},
     "output_type": "display_data"
    }
   ],
   "source": [
    "# decision boundary pictorial view\n",
    "x2 = np.linspace(-100,100)\n",
    "x1 = np.linspace( -100, 100)\n",
    "x2 = (7.15 - 4.07*x1) / 3.74 \n",
    "plt.plot(x1,x2)"
   ]
  }
 ],
 "metadata": {
  "kernelspec": {
   "display_name": "Python 3",
   "language": "python",
   "name": "python3"
  },
  "language_info": {
   "codemirror_mode": {
    "name": "ipython",
    "version": 3
   },
   "file_extension": ".py",
   "mimetype": "text/x-python",
   "name": "python",
   "nbconvert_exporter": "python",
   "pygments_lexer": "ipython3",
   "version": "3.6.5"
  }
 },
 "nbformat": 4,
 "nbformat_minor": 2
}
